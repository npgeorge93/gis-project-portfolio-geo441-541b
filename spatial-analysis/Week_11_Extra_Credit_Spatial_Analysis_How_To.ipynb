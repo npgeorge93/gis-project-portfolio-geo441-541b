{
  "nbformat": 4,
  "nbformat_minor": 0,
  "metadata": {
    "colab": {
      "provenance": [],
      "authorship_tag": "ABX9TyOrQspZd2PKJqDWLPk8VazH",
      "include_colab_link": true
    },
    "kernelspec": {
      "name": "python3",
      "display_name": "Python 3"
    },
    "language_info": {
      "name": "python"
    }
  },
  "cells": [
    {
      "cell_type": "markdown",
      "metadata": {
        "id": "view-in-github",
        "colab_type": "text"
      },
      "source": [
        "<a href=\"https://colab.research.google.com/github/npgeorge93/gis-project-portfolio-geo441-541b/blob/main/spatial-analysis/Week_11_Extra_Credit_Spatial_Analysis_How_To.ipynb\" target=\"_parent\"><img src=\"https://colab.research.google.com/assets/colab-badge.svg\" alt=\"Open In Colab\"/></a>"
      ]
    },
    {
      "cell_type": "code",
      "execution_count": null,
      "metadata": {
        "id": "UtsZNIZeVGhQ"
      },
      "outputs": [],
      "source": []
    },
    {
      "cell_type": "markdown",
      "source": [
        "#**GEO 441/541 Creating a 3D Feature Using Multipatch Texture**\n",
        "\n",
        "By Natalie George\n",
        "\n",
        "11/10/24"
      ],
      "metadata": {
        "id": "wfOAieVgVQKI"
      }
    },
    {
      "cell_type": "markdown",
      "source": [
        "##**Adding polygons to a Local Map Scene**\n",
        "\n",
        "\n",
        "\n",
        "*   Open a new ArcGIS Pro Project\n",
        "*   Choose Local Scene\n",
        "*   Import polygon files from unzipped geodatabase. This will take you automatically to the location of the polygons' data.\n",
        "\n"
      ],
      "metadata": {
        "id": "GKxR5pmEVlgL"
      }
    },
    {
      "cell_type": "markdown",
      "source": [
        "##**Convert Polygons from 2D to 3D**\n",
        "\n",
        "\n",
        "*   The polygons will not immediately be visible, so we need to make them visible by selecting one of the features from the Contents tab and then selecting the Feature Layer Tab.\n",
        "*   Under Extrusion, we select the type by Max Height and choose the HeightFt field. The polygon becomes visible, but it's still a 2D object.\n",
        "*   Use the Geoprocessing tool Layer 3D to Feature Class. Input the chosen Feature Layer, and click on the Output Feature Class. It will autopopulate the feature layer with a new name. Remember to title this new file carefully if working with multiple polygons in a project.\n",
        "*   Grouping field should be BLOCK_LOT_BLDG.\n",
        "*   Run the geoprocessing tool to convert the feature layer.\n",
        "\n"
      ],
      "metadata": {
        "id": "ObUhGZUcWSRY"
      }
    },
    {
      "cell_type": "markdown",
      "source": [
        "##**Adding textures to 3D polygon**\n",
        "\n",
        "\n",
        "\n",
        "*   First, remove the original 2D feature layer. You will see the lines around the polygons become more \"smooth\" with a less defined line around the edges of the shape.\n",
        "*   Under Edit tab, choose Modify. Find the Multipatch Texture tool.\n",
        "*   We can add imported texture images by clicking on a feature's pane and add by Load Texture. You can adjust the way the image lays by zooming or panning.\n",
        "*   Polygons will look best if we match the color of the texture to other panes; use the eyedropper tool to help.\n",
        "*   Save the polygon's changes to complete the application.\n",
        "\n"
      ],
      "metadata": {
        "id": "TTS1rQf1X4oI"
      }
    },
    {
      "cell_type": "markdown",
      "source": [
        "###**My examples**\n",
        "\n",
        "My building selections did not have the height and floor information immediately on the source papers, but I used the data gathered from fellow students during our Height Calculation exercise done earlier in the semester.\n",
        "\n",
        "| Block | Lot | Height in Feet | Floors |\n",
        "| ----- | ----- | ----- | ----- |\n",
        "| 205 | 5 | 25.42 | 2 |\n",
        "| 205 | 6 | 30 | 2 |\n",
        "| 205 | 7 | 33.76 | 2 |\n",
        "\n",
        "![2D to 3D](https://drive.google.com/uc?=export=view&id=1nFw6MO4rlrRAwbZKlNz37XGsFVLgf9xm)"
      ],
      "metadata": {
        "id": "AMi4SBVgZFGD"
      }
    },
    {
      "cell_type": "code",
      "source": [],
      "metadata": {
        "id": "tYt1IA1XViGj"
      },
      "execution_count": null,
      "outputs": []
    }
  ]
}