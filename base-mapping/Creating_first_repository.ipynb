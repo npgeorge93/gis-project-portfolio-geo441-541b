{
  "nbformat": 4,
  "nbformat_minor": 0,
  "metadata": {
    "colab": {
      "provenance": [],
      "toc_visible": true,
      "include_colab_link": true
    },
    "kernelspec": {
      "name": "python3",
      "display_name": "Python 3"
    },
    "language_info": {
      "name": "python"
    }
  },
  "cells": [
    {
      "cell_type": "markdown",
      "metadata": {
        "id": "view-in-github",
        "colab_type": "text"
      },
      "source": [
        "<a href=\"https://colab.research.google.com/github/npgeorge93/gis-project-portfolio-geo441-541b/blob/main/base-mapping/Creating_first_repository.ipynb\" target=\"_parent\"><img src=\"https://colab.research.google.com/assets/colab-badge.svg\" alt=\"Open In Colab\"/></a>"
      ]
    },
    {
      "cell_type": "markdown",
      "source": [
        "# **Create A Project Portfolio in a GitHub Repository**"
      ],
      "metadata": {
        "id": "C0ymCPR5aSHN"
      }
    },
    {
      "cell_type": "markdown",
      "source": [
        "🚀 Created by Natalie George\n",
        "\n",
        "10/14/2024"
      ],
      "metadata": {
        "id": "Pt_OREXFPvkr"
      }
    },
    {
      "cell_type": "markdown",
      "source": [
        "## **What is GitHub?**\n",
        "\n",
        "- GitHub is a cloud-based platform where you can store, share, and work together with others to write code (see [About GitHub](https://docs.github.com/en/get-started/start-your-journey/about-github-and-git))\n",
        "  - In GitHub, works are organized by **repositories**\n",
        "- For non-coders, we can also use GitHub as a way to showcase our work\n",
        "- In this tutorial, you will learn how to turn the Google Colab Notebooks you have prepared so far into a project portfolio in one or more GitHub repositories\n",
        "\n",
        "- **Table of Content**\n",
        "  - [Create a GitHub account](https://colab.research.google.com/drive/1REu8R6IKYGstmsfjsLZtyNyEeolnJk1B#scrollTo=6tKmlbnzny_I&line=1&uniqifier=1)\n",
        "  - [Create a GitHub repository for your works](https://colab.research.google.com/drive/1REu8R6IKYGstmsfjsLZtyNyEeolnJk1B#scrollTo=oe8EPr2lxKZa&line=1&uniqifier=1)\n",
        "  - [Copy Google Colab Notebooks to your repository](https://colab.research.google.com/drive/1REu8R6IKYGstmsfjsLZtyNyEeolnJk1B#scrollTo=yxev8DCezhdy&line=35&uniqifier=1)\n",
        "  - [Update the `README.md` file of your repository](https://colab.research.google.com/drive/1REu8R6IKYGstmsfjsLZtyNyEeolnJk1B#scrollTo=jF-LJrYlFE2j&line=3&uniqifier=1)\n",
        "\n",
        "---"
      ],
      "metadata": {
        "id": "CMQN_pgaHVLO"
      }
    },
    {
      "cell_type": "markdown",
      "source": [
        "## **Create a GitHub account**\n",
        "\n",
        "- Navigate to https://github.com/.\n",
        "- Click **Sign Up**\n",
        "- Follow the prompts to create your personal account.\n",
        "- During sign up, you'll be asked to verify your email address. Without a verified email address, you won't be able to complete some basic GitHub tasks, such as creating a repository.\n",
        "- Refer to [this GitHub document](https://docs.github.com/en/get-started/start-your-journey/creating-an-account-on-github) if you need help.\n",
        "- **Recommended**\n",
        "  - Use a **personal email address** to sign up instead of *MiamiOH.edu* email to make sure you have continued access to this account after graduation\n",
        "\n",
        "---"
      ],
      "metadata": {
        "id": "6tKmlbnzny_I"
      }
    },
    {
      "cell_type": "markdown",
      "source": [
        "## **Create a GitHub Repository**\n",
        "\n",
        "You can think of a repository as a folder that contains related items, such as files, images, videos, or even other folders. A repository usually groups together items that belong to the same \"project\" or thing you're working on.\n",
        "\n",
        "\n",
        "1. In the upper-right corner of any page, select **+**, then click **New repository**.\n",
        "\n",
        "<div>\n",
        "<img src=\"https://docs.github.com/assets/cb-29762/mw-1440/images/help/repository/repo-create-global-nav-update.webp\" width= 500px />\n",
        "</div>\n",
        "\n",
        "2. In the **\"Repository name\"** box, type **`gis-project-portfolio-geo441-541b`**\n",
        "3. Select your repository as **Public**\n",
        "4. You **don't** need to add a `.gitignore` file\n",
        "5. Select License as **GNU General Public License v3.0**\n",
        "\n",
        "---"
      ],
      "metadata": {
        "id": "oe8EPr2lxKZa"
      }
    },
    {
      "cell_type": "markdown",
      "source": [
        "## **Copy Google Colab Notebooks to the Repository**\n",
        "\n",
        "We can make a copy of the Google Colab Notebooks we have prepared before to the newly created repository to showcase your work to potential employers, application reviewers, etc.\n",
        "\n",
        "- Find a Google Colab Notebook from your Google Drive\n",
        "  - **Make sure your notebooks are viewable by the public**\n",
        "  - For example, [week-01-assignment-example.ipynb](https://colab.research.google.com/drive/1HsxBr7gp56dc5qH_y4Nbj8A-eBbkaye2?usp=sharing)\n",
        "- In this Notebook, go to **`File/Save a Copy in GitHub`**\n",
        "  - If this is the first time, you may be asked to login to your GitHub account\n",
        "    - Just put the email and password to login and authorize Google Colab to **commit** to your repositories\n",
        "- Select the repository you just created under your GitHub account as the destination\n",
        "- Add a folder `basic-mapping` and use a different file name (`first-arcgis-mapping.ipynb`) for the copy of this notebook in your GitHub repository\n",
        "  - Type **`basic-mapping/first-arcgis-mapping.ipynb`** as the file path\n",
        "\n",
        "![img](https://raw.githubusercontent.com/jiashenyue/geo441-541/main/pics/copy-google-colab-notebook.png)\n",
        "\n",
        "  - You will then see a new tab like the example below in your GitHub repository\n",
        "\n",
        "![img](https://raw.githubusercontent.com/jiashenyue/geo441-541/main/pics/copy-google-colab-notebook-result.png)\n",
        "\n",
        "\n",
        "---\n",
        "\n",
        "- Copy another Google Colab Notebook from your Google Drive\n",
        "  - Try the notebook of your Week 5 assignment\n",
        "  - Find this notebook and go from `File/Save a Copy in GitHub`\n",
        "  - Type **`basic-mapping/age-index-mapping.ipynb`** as the file path\n",
        "\n",
        "![img](https://raw.githubusercontent.com/jiashenyue/geo441-541/main/pics/copy-google-colab-notebook-2nd-example.png)\n",
        "\n",
        "---\n",
        "**Work on your own**\n",
        "\n",
        "- Copy a Google Colab Notebook to a new folder in your current GitHub repository\n",
        "  - Try the notebook of the in-class exercise we did during Week 3 about map coordinates ([example notebook](https://colab.research.google.com/drive/1YRiirCxC-TRC6HHH4qcIqT688Y1Fvc4m?usp=sharing))\n",
        "  - Find this notebook and go from `File/Save a Copy in GitHub`\n",
        "  - Type **`map-coordinate-basics/understanding-coordinates.ipynb`** as the file path\n"
      ],
      "metadata": {
        "id": "yxev8DCezhdy"
      }
    },
    {
      "cell_type": "markdown",
      "source": [
        "## **Update the `README` File of Your Repository**\n",
        "\n",
        "We created a `README` file for our repository. This is a good way to provide an overview of the content in your repository. People usually use this place to provide links to key results and findings of a project. It is a good habit to maintain a well-organized `README` file for your repository."
      ],
      "metadata": {
        "id": "jF-LJrYlFE2j"
      }
    },
    {
      "cell_type": "markdown",
      "source": [
        "### **Some examples**\n",
        "\n",
        "- A [`README`](https://github.com/sladel11/Timesat-seasonality/tree/main) prepared by our TA Slade Laszweski for a key step his thesis project\n",
        "- A [project repository `README`](https://github.com/carmengg/rasters_intro_SB_NAIP) prepared by [Dr. Carmen Galaz García](https://bren.ucsb.edu/people/carmen-galaz-garcia-0) @UCSB Bren School of Environmental Manaagement\n",
        "\n",
        "---"
      ],
      "metadata": {
        "id": "38QPvYSW_k62"
      }
    },
    {
      "cell_type": "markdown",
      "source": [
        "### **Let's edit ours**\n",
        "\n",
        "- Turn on the edit mode of `README` by click the pencil at the upper-right corner\n",
        "\n",
        "<div>\n",
        "<img src=\"https://raw.githubusercontent.com/jiashenyue/geo441-541/main/pics/turn-on-edit.png\" width= 900px />\n",
        "</div>"
      ],
      "metadata": {
        "id": "3kgw6c1k_n_R"
      }
    },
    {
      "cell_type": "markdown",
      "source": [
        "- Edit the file using **`Markdown`**\n",
        "\n",
        "<div>\n",
        "<img src=\"https://raw.githubusercontent.com/jiashenyue/geo441-541/main/pics/edit-readme.png\" width= 700px />\n",
        "</div>\n",
        "\n",
        "---"
      ],
      "metadata": {
        "id": "Y5cV2iHe-sPA"
      }
    },
    {
      "cell_type": "markdown",
      "source": [
        "- You can switch to **Preview** mode to check the rendered version of your document\n",
        "\n",
        "<div>\n",
        "<img src=\"https://raw.githubusercontent.com/jiashenyue/geo441-541/main/pics/preview-readme.png\" width= 700px />\n",
        "</div>\n"
      ],
      "metadata": {
        "id": "R5L4kA-Q-7p9"
      }
    },
    {
      "cell_type": "markdown",
      "source": [
        "### **Finish on your own**\n",
        "\n",
        "- Copy the following markdown content to your `README` and make edits as needed\n",
        "  - Change author's name\n",
        "  - Use the right links to your notebook in your own GitHub repository\n",
        "\n",
        "```\n",
        "# :earth_americas: GEO 441B/541B Geographic Information Systems :earth_americas:\n",
        "\n",
        "Shenyue Jia\n",
        "\n",
        "## Overview\n",
        "- This repository contains Google Colab Notebooks prepared for GEO 441/541 @Miami University\n",
        "- Students can build a repository like this as their project portfolio\n",
        "\n",
        "## Basic Mapping\n",
        "\n",
        "- [First map in ArcGIS Pro](https://github.com/jiashenyue/geo441-541/blob/main/basic-mapping/first-arcgis-mapping.ipynb)\n",
        "- [Map the age index based on 2000 census data](https://github.com/jiashenyue/geo441-541/blob/main/basic-mapping/age-index-mapping.ipynb)\n",
        "\n",
        "## Map Coordinate Basics\n",
        "\n",
        "- [Understanding map coordinates](https://github.com/jiashenyue/geo441-541/blob/main/map-coordinates-basics/understanding-coordinates.ipynb)\n",
        "\n",
        "```"
      ],
      "metadata": {
        "id": "RWhfvd5j7926"
      }
    },
    {
      "cell_type": "markdown",
      "source": [
        "## **Reference**\n",
        "\n",
        "- [Markdown cheat sheet](https://www.markdownguide.org/cheat-sheet/)\n",
        "- [Start your journey in GitHub](https://docs.github.com/en/get-started/start-your-journey)"
      ],
      "metadata": {
        "id": "fvMbEX89YLeY"
      }
    }
  ]
}