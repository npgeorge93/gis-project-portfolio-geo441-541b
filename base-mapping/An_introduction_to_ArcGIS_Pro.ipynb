{
  "nbformat": 4,
  "nbformat_minor": 0,
  "metadata": {
    "colab": {
      "provenance": [],
      "authorship_tag": "ABX9TyORyAzrXQzqu5y7qjEzow5W",
      "include_colab_link": true
    },
    "kernelspec": {
      "name": "python3",
      "display_name": "Python 3"
    },
    "language_info": {
      "name": "python"
    }
  },
  "cells": [
    {
      "cell_type": "markdown",
      "metadata": {
        "id": "view-in-github",
        "colab_type": "text"
      },
      "source": [
        "<a href=\"https://colab.research.google.com/github/npgeorge93/gis-project-portfolio-geo441-541b/blob/main/base-mapping/An_introduction_to_ArcGIS_Pro.ipynb\" target=\"_parent\"><img src=\"https://colab.research.google.com/assets/colab-badge.svg\" alt=\"Open In Colab\"/></a>"
      ]
    },
    {
      "cell_type": "markdown",
      "source": [
        "# **GEO 441B/541B Week 1 Assignment: Introduction to ArcGIS Pro GUI**\n",
        "\n",
        "Created by Natalie George\n",
        "08/28/2024\n",
        "\n",
        "\n",
        "\n",
        "\n",
        "\n"
      ],
      "metadata": {
        "id": "inRJwDrHxPfQ"
      }
    },
    {
      "cell_type": "markdown",
      "source": [
        "## **Get ready to start**\n",
        "\n",
        "\n",
        "\n",
        "*   Click **`File/Save a copy in Drive`** to save a copy of this notebook to my own Google Drive\n"
      ],
      "metadata": {
        "id": "BnJIVdCky2_5"
      }
    },
    {
      "cell_type": "markdown",
      "source": [
        "## **Create my first map using ArcGIS Pro**\n",
        "\n",
        "\n",
        "\n",
        "1.   **Instructions**\n",
        "  \n",
        "    - Follow mapping instructions from [this Canvas file](https://www.google.com/url?q=https%3A%2F%2Fmiamioh.instructure.com%2Fcourses%2F218994%2Ffiles%2F32640807%3Fwrap%3D1)\n",
        "    - Mapping instructions are adapted from *Lab 1: Introduction to ArcGIS Pro* in [GIS Fundamentals Resources page](https://www.google.com/url?q=https%3A%2F%2Fwww.gisfundamentals.org%2Fresources)\n"
      ],
      "metadata": {
        "id": "eicjS5uh1GGR"
      }
    },
    {
      "cell_type": "markdown",
      "source": [
        "2.   **Share map**\n",
        "    - Upload the PNG file exported from ArcGIS Pro to my Google Drive folder for Week 1 assignment\n",
        "    - Change Share privilege to make this file viewable by anyone with a link\n",
        "    - Copy the sharable link"
      ],
      "metadata": {
        "id": "BsoVTG4y1O3B"
      }
    },
    {
      "cell_type": "markdown",
      "source": [
        "3. **Obtain a sharable link**\n",
        "    - The default link I get for this PNG file cannot be directly used in Notebook to show the picture correctly\n",
        "    - I made some changes to the default sharable link:\n",
        "      * Keep the **1A2B3C4D5E6F7G8H9I0J** part because this is the unique file ID for the picture\n",
        "      * Deleted **/view?usp=sharing** at the end of the link\n",
        "      * Replaced **/file/d/** with **/uc?export=view&id=**\n",
        "    - Here is an example I referred to:\n",
        "      * Default sharable link\n",
        "```\n",
        "https://drive.google.com/file/d/1A2B3C4D5E6F7G8H9I0J/view?usp=sharing\n",
        "```\n",
        "      * The direct link for view from this example would be\n",
        "```\n",
        "https://drive.google.com/uc?export=view&id=1A2B3C4D5E6F7G8H9I0J\n",
        "```\n",
        "      * The link below is the correct one I need to use in the next session:\n",
        "```\n",
        "https://drive.google.com/uc?export=view&id=1XLvkMVfRvuUry3xsCGddogj5sej96Q8T\n",
        "```\n",
        "\n"
      ],
      "metadata": {
        "id": "wDZEFVQ41RHJ"
      }
    },
    {
      "cell_type": "markdown",
      "source": [
        "4. **Map**\n",
        "\n",
        "![Cloquet](https://drive.google.com/uc?export=view&id=1XLvkMVfRvuUry3xsCGddogj5sej96Q8T)"
      ],
      "metadata": {
        "id": "V7dJGLddLGCK"
      }
    },
    {
      "cell_type": "markdown",
      "source": [
        "### **Reflection on my first experience with ArcGIS Pro**\n",
        "\n",
        "- Overall, I spent 4 hours creating my first map.\n",
        "- Here is a table showing things that I feel excited about and challenging in my first experience working in ArcGIS Pro\n",
        "\n",
        "| Things I'm excited about      | Things challenging for me |\n",
        "| ----------------------------- | ------------------------- |\n",
        "| Learning a new skill                      |       Focus |\n",
        "| Being creative |                      Also... being creative! |\n",
        "| Applying this to my Master's Degree |                     Limited technology and time |\n",
        "\n",
        "- Here's how I rate my first time working in ArcGIS Pro\n",
        "  - Data importance and management\n",
        "    - It's interesting to learn about what kind of significance we can extrapolate from geographical data that is collected. I can see how \"stories\" can be told based on what we allow to be viewable. It's extraordinary and seemingly limitless what directions one could go, even with just flipping layers on and off!\n",
        "  - Map creation and annotation\n",
        "    - On a similar note, I am curious to see how far one can go to make a map visually significant but also stunning; when will there be times that a map should be very simplistic and minimal versus detailed? I imagine that very creative ArcGIS users could make some pretty impressive projects, especially in combination with other design tools, with the help of coding, or even with AI.\n",
        "  - Navigating the software using its GUI\n",
        "    - This is a little tricky so far! I need much more practice in order to remember where everything is. However, I am reminded of other design applications I have some experience in, so I don't feel entirely lost. I'm sure I'm not the first person to say I'm reminded of Adobe Creative Cloud products, especially Photoshop."
      ],
      "metadata": {
        "id": "zxrA0D25NHT_"
      }
    },
    {
      "cell_type": "markdown",
      "source": [
        "### Saving and Sharing this notebook\n",
        "\n",
        "- I made this viewable by anyone with the link.\n",
        "\n",
        "![screenshot](https://drive.google.com/uc?export=view&id=1-TG7SJ9WsUMa_QS-B2l8o1EFLnMv4nUh)\n",
        "\n",
        "- Then I copied this link as my submission in Assignment Week 1.\n",
        "\n",
        "**References**\n",
        "\n",
        "-[Markdown Cheat Sheet](https://www.markdownguide.org/cheat-sheet/)"
      ],
      "metadata": {
        "id": "v2EdZvEQRp-m"
      }
    }
  ]
}